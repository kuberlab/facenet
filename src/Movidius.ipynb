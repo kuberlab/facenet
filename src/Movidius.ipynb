{
 "cells": [
  {
   "cell_type": "code",
   "execution_count": null,
   "metadata": {},
   "outputs": [],
   "source": [
    "from mvnc import mvncapi as mvnc"
   ]
  },
  {
   "cell_type": "code",
   "execution_count": null,
   "metadata": {},
   "outputs": [],
   "source": [
    "devices = mvnc.enumerate_devices()\n",
    "devices"
   ]
  },
  {
   "cell_type": "code",
   "execution_count": null,
   "metadata": {},
   "outputs": [],
   "source": [
    "device = mvnc.Device(devices[0])\n",
    "device.open()"
   ]
  },
  {
   "cell_type": "code",
   "execution_count": null,
   "metadata": {},
   "outputs": [],
   "source": [
    "import os\n",
    "h = 52\n",
    "w = 74\n",
    "model_dir = os.path.join(os.environ.get('SRC_DIR',''),'movidius')\n",
    "pnet_file = os.path.join(model_dir,'pnet-{}x{}.graph'.format(h,w))\n",
    "onet_file = os.path.join(model_dir,'onet.graph')\n",
    "rnet_file = os.path.join(model_dir,'rnet.graph')"
   ]
  },
  {
   "cell_type": "code",
   "execution_count": null,
   "metadata": {},
   "outputs": [],
   "source": [
    "with open(pnet_file, mode='rb') as f:\n",
    "    graphData = f.read()\n",
    "pnetGraph = mvnc.Graph('pnet')\n",
    "pnetIn, pnetOut = pnetGraph.allocate_with_fifos(device, graphData)"
   ]
  },
  {
   "cell_type": "code",
   "execution_count": null,
   "metadata": {},
   "outputs": [],
   "source": [
    "with open(rnet_file, mode='rb') as f:\n",
    "    graphData = f.read()\n",
    "rnetGraph = mvnc.Graph('rnet')\n",
    "rnetIn, rnetOut = rnetGraph.allocate_with_fifos(device, graphData)"
   ]
  },
  {
   "cell_type": "code",
   "execution_count": null,
   "metadata": {},
   "outputs": [],
   "source": [
    "with open(onet_file, mode='rb') as f:\n",
    "    graphData = f.read()\n",
    "onetGraph = mvnc.Graph('onet')\n",
    "onetIn, onetOut = onetGraph.allocate_with_fifos(device, graphData)"
   ]
  },
  {
   "cell_type": "code",
   "execution_count": null,
   "metadata": {},
   "outputs": [],
   "source": [
    "def _rnet_proxy(img):\n",
    "    rnetGraph.queue_inference_with_fifo_elem(rnetIn, rnetOut, img, 'rnet')\n",
    "    output, userobj = rnetOut.read_elem()\n",
    "    return output\n",
    "\n",
    "def _onet_proxy(img):\n",
    "    onetGraph.queue_inference_with_fifo_elem(onetIn, onetOut, img, 'onet')\n",
    "    output, userobj = onetOut.read_elem()\n",
    "    return output"
   ]
  },
  {
   "cell_type": "code",
   "execution_count": null,
   "metadata": {},
   "outputs": [],
   "source": [
    "def _pnet_proxy(img):\n",
    "    pnetGraph.queue_inference_with_fifo_elem(pnetIn, pnetOut, img, 'pnet')\n",
    "    output, userobj = pnetOut.read_elem()\n",
    "    return output"
   ]
  },
  {
   "cell_type": "code",
   "execution_count": null,
   "metadata": {},
   "outputs": [],
   "source": [
    "pnets=[(_pnet_proxy,h,w)]"
   ]
  },
  {
   "cell_type": "code",
   "execution_count": null,
   "metadata": {},
   "outputs": [],
   "source": [
    "import cv2\n",
    "import numpy as np\n",
    "frame = cv2.imread(os.path.join(model_dir,'test.png')).astype(np.float32)"
   ]
  },
  {
   "cell_type": "code",
   "execution_count": null,
   "metadata": {},
   "outputs": [],
   "source": [
    "if (frame.shape[1] != 640) or (frame.shape[0] != 480):\n",
    "    frame = cv2.resize(frame, (640, 480), interpolation=cv2.INTER_AREA)\n",
    "%matplotlib inline\n",
    "from matplotlib.pyplot import imshow\n",
    "imshow(cv2.cvtColor(frame, cv2.COLOR_BGR2RGB).astype(np.uint8))"
   ]
  },
  {
   "cell_type": "code",
   "execution_count": null,
   "metadata": {},
   "outputs": [],
   "source": [
    "rgb_frame = frame[:, :, ::-1]"
   ]
  },
  {
   "cell_type": "code",
   "execution_count": null,
   "metadata": {},
   "outputs": [],
   "source": [
    "import tensorflow as tf\n",
    "sess = tf.Session()"
   ]
  },
  {
   "cell_type": "code",
   "execution_count": null,
   "metadata": {},
   "outputs": [],
   "source": [
    "import sys\n",
    "sys.path.append(os.environ.get('SRC_DIR',''))\n",
    "import align.detect_face as detect_face\n",
    "pnets_proxy, rnet, onet = detect_face.create_movidius_mtcnn(sess,os.path.join(os.environ.get('SRC_DIR',''),'align'),\n",
    "                                                            pnets, _rnet_proxy, _onet_proxy)"
   ]
  },
  {
   "cell_type": "code",
   "execution_count": null,
   "metadata": {},
   "outputs": [],
   "source": [
    "bounding_boxes, _ = detect_face.movidius_detect_face(rgb_frame, pnets_proxy, rnet, onet, [0.7, 0.7, 0.7])\n",
    "bounding_boxes"
   ]
  },
  {
   "cell_type": "code",
   "execution_count": null,
   "metadata": {},
   "outputs": [],
   "source": [
    "if bounding_boxes is not None:\n",
    "    for face in bounding_boxes:\n",
    "        face_bb = face.astype(int)\n",
    "        cv2.rectangle(frame,(face_bb[0], face_bb[1]), (face_bb[2], face_bb[3]),(0, 255, 0), 2)\n",
    "        \n",
    "%matplotlib inline\n",
    "from matplotlib.pyplot import imshow\n",
    "imshow(cv2.cvtColor(frame, cv2.COLOR_BGR2RGB).astype(np.uint8))"
   ]
  },
  {
   "cell_type": "code",
   "execution_count": null,
   "metadata": {},
   "outputs": [],
   "source": [
    "rnetIn.destroy()\n",
    "rnetOut.destroy()\n",
    "rnetGraph.destroy()\n",
    "onetIn.destroy()\n",
    "onetOut.destroy()\n",
    "onetGraph.destroy()\n",
    "pnetIn.destroy()\n",
    "pnetOut.destroy()\n",
    "pnetGraph.destroy()\n",
    "device.close()"
   ]
  },
  {
   "cell_type": "code",
   "execution_count": null,
   "metadata": {},
   "outputs": [],
   "source": []
  }
 ],
 "metadata": {
  "kernelspec": {
   "display_name": "Python 3",
   "language": "python",
   "name": "python3"
  },
  "language_info": {
   "codemirror_mode": {
    "name": "ipython",
    "version": 3
   },
   "file_extension": ".py",
   "mimetype": "text/x-python",
   "name": "python",
   "nbconvert_exporter": "python",
   "pygments_lexer": "ipython3",
   "version": "3.5.2"
  }
 },
 "nbformat": 4,
 "nbformat_minor": 2
}
